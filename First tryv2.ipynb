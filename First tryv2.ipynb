{
 "cells": [
  {
   "cell_type": "markdown",
   "id": "b74b0d89",
   "metadata": {},
   "source": [
    "Κακή Υλοποίηση ενός κακού μοντέλου. Αλλά νομίζω πως λειτουργεί:\n",
    "\n",
    "Ορίζω ως:\n",
    "\n",
    "$N$ Το σύνολο των χωρών που συμμετέχουν και $i$ η κάθε χώρα που συμμετέχει στο ETS. Η Σλοβακία έμεινε εκτός γιατί δεν έχω όλα τα data. \n",
    "\n",
    "$A$ το συνολικό allocation free αδειών για αυτή τη χρονιά.\n",
    "\n",
    "$A_i$ το ζητούμενο allocation της κάθε χώρας.\n",
    "\n",
    "$slope_i$ την κλίση της γραμμικής παλινδρόμησης μεταξύ GDP και BAU emissions.\n",
    "\n",
    "$free_i$ free allocation of last year of country i  \n",
    "\n",
    "$free_{x,i}$ free allocation of last year of country i of year x\n",
    "\n",
    "$GDP{x,i}$ GDP per capita of country i of year x\n",
    "\n",
    "$\\overline{GDP_x}$ average GDP of year x\n",
    "\n",
    "$pop_i$ population of country i  \n",
    "\n",
    "$Utility_i = slope_i \\times A_i$\n",
    "\n",
    "\n",
    "Προσπαθούμε να λύσουμε το παρακάτω πρόβλημα γραμμικού προγραμματισμού:\n",
    "\n",
    "$ maximaze(\\sum_{ i \\in N}{Utilities_i})$\n",
    "\n",
    "c.t.\n",
    "$A_i \\leq 1.5 \\times free_i$\n",
    "\n",
    "$A_i \\geq   free_i \\times 0.5$\n",
    "\n",
    "$\\sum_{i \\in N}{A_i} = A$ \n",
    "\n",
    "\n",
    "Ο υπολογισμός του w4 τελικά ήταν εντελώς λάθος και δεν χρησιμοποιήθηκε γιατί δεν ήταν καν συνεπείς οι περιορισμοί για τον simplex.\n",
    "\n",
    "Αλλα για την ιστορία:\n",
    "$K_i = (GDP_{x,i}- \\overline{GDP_x)} - (GDP_{x-1,i}- \\overline{GDP_{x-1}})$\n",
    "\n",
    "$w4_i = \\frac{\\frac{pop_i}{max(pop_j)} - \\frac{K_i}{max(K_j)}}{4} + 1, \\forall j \\in N $\n",
    "\n",
    "\n"
   ]
  },
  {
   "cell_type": "code",
   "execution_count": 4,
   "id": "ea1ff6aa",
   "metadata": {},
   "outputs": [
    {
     "name": "stdout",
     "output_type": "stream",
     "text": [
      "Requirement already satisfied: numpy in c:\\users\\kostas\\.conda\\envs\\python37\\lib\\site-packages (1.21.5)\n",
      "Requirement already satisfied: pandas in c:\\users\\kostas\\.conda\\envs\\python37\\lib\\site-packages (1.3.5)\n",
      "Requirement already satisfied: pytz>=2017.3 in c:\\users\\kostas\\.conda\\envs\\python37\\lib\\site-packages (from pandas) (2021.3)\n",
      "Requirement already satisfied: numpy>=1.17.3 in c:\\users\\kostas\\.conda\\envs\\python37\\lib\\site-packages (from pandas) (1.21.5)\n",
      "Requirement already satisfied: python-dateutil>=2.7.3 in c:\\users\\kostas\\.conda\\envs\\python37\\lib\\site-packages (from pandas) (2.8.2)\n",
      "Requirement already satisfied: six>=1.5 in c:\\users\\kostas\\.conda\\envs\\python37\\lib\\site-packages (from python-dateutil>=2.7.3->pandas) (1.16.0)\n",
      "Requirement already satisfied: matplotlib in c:\\users\\kostas\\.conda\\envs\\python37\\lib\\site-packages (3.5.1)\n",
      "Requirement already satisfied: cycler>=0.10 in c:\\users\\kostas\\.conda\\envs\\python37\\lib\\site-packages (from matplotlib) (0.11.0)\n",
      "Requirement already satisfied: python-dateutil>=2.7 in c:\\users\\kostas\\.conda\\envs\\python37\\lib\\site-packages (from matplotlib) (2.8.2)\n",
      "Requirement already satisfied: kiwisolver>=1.0.1 in c:\\users\\kostas\\.conda\\envs\\python37\\lib\\site-packages (from matplotlib) (1.3.2)\n",
      "Requirement already satisfied: packaging>=20.0 in c:\\users\\kostas\\.conda\\envs\\python37\\lib\\site-packages (from matplotlib) (21.3)\n",
      "Requirement already satisfied: fonttools>=4.22.0 in c:\\users\\kostas\\.conda\\envs\\python37\\lib\\site-packages (from matplotlib) (4.25.0)\n",
      "Requirement already satisfied: numpy>=1.17 in c:\\users\\kostas\\.conda\\envs\\python37\\lib\\site-packages (from matplotlib) (1.21.5)\n",
      "Requirement already satisfied: pyparsing>=2.2.1 in c:\\users\\kostas\\.conda\\envs\\python37\\lib\\site-packages (from matplotlib) (3.0.4)\n",
      "Requirement already satisfied: pillow>=6.2.0 in c:\\users\\kostas\\.conda\\envs\\python37\\lib\\site-packages (from matplotlib) (9.0.1)\n",
      "Requirement already satisfied: six>=1.5 in c:\\users\\kostas\\.conda\\envs\\python37\\lib\\site-packages (from python-dateutil>=2.7->matplotlib) (1.16.0)\n",
      "Requirement already satisfied: scipy in c:\\users\\kostas\\.conda\\envs\\python37\\lib\\site-packages (1.7.3)\n",
      "Requirement already satisfied: numpy<1.23.0,>=1.16.5 in c:\\users\\kostas\\.conda\\envs\\python37\\lib\\site-packages (from scipy) (1.21.5)\n",
      "Requirement already satisfied: mysql.connector in c:\\users\\kostas\\.conda\\envs\\python37\\lib\\site-packages (2.2.9)\n"
     ]
    }
   ],
   "source": [
    "!pip install numpy\n",
    "!pip install pandas\n",
    "!pip install matplotlib\n",
    "!pip install scipy\n",
    "!pip install mysql.connector"
   ]
  },
  {
   "cell_type": "code",
   "execution_count": 5,
   "id": "1c240981",
   "metadata": {},
   "outputs": [],
   "source": [
    "import mysql.connector\n",
    "import numpy as np\n",
    "import matplotlib.pyplot as plt\n",
    "import csv\n",
    "import json\n",
    "import math\n",
    "from scipy import stats\n",
    "from scipy.optimize import linprog\n",
    "import pandas as pd\n"
   ]
  },
  {
   "cell_type": "code",
   "execution_count": 6,
   "id": "3eeb47f2",
   "metadata": {},
   "outputs": [],
   "source": [
    "#  DEFINITIONS\n",
    "\n",
    "# DATABSE\n",
    "db='eu_ets'\n",
    "use='root'\n",
    "passwor=''\n",
    "hos='localhost'\n",
    "\n",
    "# Diagrams of data\n",
    "Need_diagrams_of_random_data = False\n",
    "Countrys_number_for_diagrams = 10 # Διάλεξε χώρα\n",
    "# 0 Austria, 1 Belgium, 2 Bulgaria, 3 Croatia, 4 Cyprus, 5 Czech Republic, 6 Denmark, 7 Estonia, 8 Finland, 9 France, 10 Germany, 11 Greece, 12 Hungary, 13 Ireland, 14 Italy, 15 Latvia, 16 Lithuania, 17 Luxembourg, 18 Malta, 19 Netherlands, 20 Poland, 21 Portugal, 22 Romania, 23 Slovenia, 24 Spain, 25 Sweden, 26 United Kingdom\n",
    "\n",
    "\n",
    "# Training of the linear regration of GDP over CO2 emissions\n",
    "# Data available from 1960 to 2020\n",
    "first_year_of_calculation = 1990\n",
    "last_year_of_calculation = 2018\n",
    "Need_diagrams_of_linear_regration = False # True if you want to see the diagrams of the linear regression\n",
    "\n",
    "Prediction_year = 2018 # must be between \n"
   ]
  },
  {
   "cell_type": "code",
   "execution_count": 7,
   "id": "a932812f",
   "metadata": {},
   "outputs": [],
   "source": [
    "def year(x):\n",
    "    return x - 1960"
   ]
  },
  {
   "cell_type": "code",
   "execution_count": 8,
   "id": "d7c56cb6",
   "metadata": {},
   "outputs": [
    {
     "name": "stdout",
     "output_type": "stream",
     "text": [
      "dict_keys(['Austria', 'Belgium', 'Bulgaria', 'Cyprus', 'Czech Republic', 'Germany', 'Denmark', 'Estonia', 'Greece', 'Spain', 'Finland', 'France', 'Croatia', 'Hungary', 'Ireland', 'Italy', 'Lithuania', 'Luxembourg', 'Latvia', 'Malta', 'Netherlands', 'Poland', 'Portugal', 'Romania', 'Sweden', 'Slovenia', 'Slovakia', 'United Kingdom'])\n",
      "{'Austria': 'AT', 'Belgium': 'BE', 'Bulgaria': 'BG', 'Cyprus': 'CY', 'Czech Republic': 'CZ', 'Germany': 'DE', 'Denmark': 'DK', 'Estonia': 'EE', 'Greece': 'GR', 'Spain': 'ES', 'Finland': 'FI', 'France': 'FR', 'Croatia': 'HR', 'Hungary': 'HU', 'Ireland': 'IE', 'Italy': 'IT', 'Lithuania': 'LT', 'Luxembourg': 'LU', 'Latvia': 'LV', 'Malta': 'MT', 'Netherlands': 'NL', 'Poland': 'PL', 'Portugal': 'PT', 'Romania': 'RO', 'Sweden': 'SE', 'Slovenia': 'SI', 'Slovakia': 'SK', 'United Kingdom': 'GB'} ['Austria', 'Belgium', 'Bulgaria', 'Croatia', 'Cyprus', 'Czech Republic', 'Denmark', 'Estonia', 'Finland', 'France', 'Germany', 'Greece', 'Hungary', 'Ireland', 'Italy', 'Latvia', 'Lithuania', 'Luxembourg', 'Malta', 'Netherlands', 'Poland', 'Portugal', 'Romania', 'Slovenia', 'Spain', 'Sweden', 'United Kingdom']\n"
     ]
    }
   ],
   "source": [
    "\n",
    "cnx = mysql.connector.connect(user=use, password=passwor,\n",
    "                                  host=hos,\n",
    "                                  database=db)\n",
    "qurry_countries = \"SELECT name, abbr2L, eu_abbr2L from countries where EU =1\"\n",
    "VerifiedEmissionsByYear= [[[0 for x in range(3)] for x in range(23)] for x in range(28)]\n",
    "\n",
    "curs = cnx.cursor()\n",
    "curs.execute(qurry_countries)\n",
    "myresult = curs.fetchall()\n",
    "countries_to_abbr = {}\n",
    "countries_to_full = {}\n",
    "countries_num_to_abbr = {}\n",
    "countries_to_eu_2Labbr = {} # El for GR, UK for GB etc.\n",
    "for key, x in enumerate(myresult):\n",
    "     countries_to_abbr[str(x[0])]=str(x[1])\n",
    "     countries_to_eu_2Labbr[str(x[0])]=str(x[2])\n",
    "     countries_to_full[str(x[1])]= str(x[0])\n",
    "     countries_num_to_abbr[key] = str(x[1])\n",
    "# print(countries_to_abbr, countries_to_full, countries_num_to_abbr)\n",
    "countries_without_slovakia=  countries_to_abbr.copy() \n",
    "countries_without_slovakia.pop('Slovakia')\n",
    "countries_without_slovakia = list(countries_without_slovakia.keys())\n",
    "# print(countries_without_slovakia)\n",
    "EUcountries = countries_without_slovakia\n",
    "EUcountries.sort()\n",
    "print(countries_to_abbr.keys())\n",
    "print(countries_to_abbr, countries_without_slovakia)\n"
   ]
  },
  {
   "cell_type": "code",
   "execution_count": 9,
   "id": "bf07fe5d",
   "metadata": {},
   "outputs": [],
   "source": [
    "Population = {}\n",
    "with open('API_SP.POP.TOTL_DS2_en_csv_v2_3731322.csv', newline='') as csvfile:\n",
    "    spamreader = csv.reader(csvfile, delimiter=',', quotechar='|')\n",
    "    # print(EUcountries)\n",
    "    for row in spamreader:\n",
    "       \n",
    "        if len(row) > 0 and row[0] in json.dumps(EUcountries):  \n",
    "            k=[]\n",
    "            for i in range (1960,2021):\n",
    "                k.append(int(json.loads(row[5+year(i)])))\n",
    "            #print (countries_to_abbr[json.loads(row[0])])\n",
    "            Population[json.loads(row[0])]=k\n",
    "# print (Population[EUcountries[5]][-1:])\n"
   ]
  },
  {
   "cell_type": "code",
   "execution_count": 10,
   "id": "825aa7c0",
   "metadata": {},
   "outputs": [],
   "source": [
    "def zero_if_none(x):\n",
    "    if x == None or x ==\"\":\n",
    "        return 0\n",
    "    elif not x.isnumeric():\n",
    "        buff= x.split('.')\n",
    "        a = int(buff[0])\n",
    "        b = int(buff[1])\n",
    "        c = a + float(\"0.\"+buff[1])\n",
    "        return c\n",
    "    else:\n",
    "        return float(x)\n"
   ]
  },
  {
   "cell_type": "code",
   "execution_count": 11,
   "id": "b901f1f3",
   "metadata": {},
   "outputs": [],
   "source": [
    "def Normalize_dictionary(x):\n",
    "    test = {}\n",
    "    max = 0\n",
    "    for i in x.values():\n",
    "        if abs(i) > max:\n",
    "            max = abs(i)\n",
    "    for key, value in x.items():\n",
    "        test[key] = -value/max  #Lingprog expects a minimize problem\n",
    "    return test\n"
   ]
  },
  {
   "cell_type": "code",
   "execution_count": 12,
   "id": "5ef8743d",
   "metadata": {},
   "outputs": [],
   "source": [
    "CO2_BAU_emissions = {}\n",
    "with open('API_EN.ATM.CO2E.KT_DS2_en_csv_v2_3830791.csv', newline='') as csvfile:\n",
    "    spamreader = csv.reader(csvfile, delimiter=',', quotechar='|')\n",
    "    for row in spamreader:\n",
    "       \n",
    "        if len(row) > 0 and row[0] in json.dumps(EUcountries):  \n",
    "            k=[]\n",
    "            for i in range (1960,2021):\n",
    "                k.append(int(math.floor(float(zero_if_none(json.loads(row[4+year(i)])))))*1000)\n",
    "            CO2_BAU_emissions[json.loads(row[0])]=k"
   ]
  },
  {
   "cell_type": "code",
   "execution_count": 13,
   "id": "f59f970e",
   "metadata": {},
   "outputs": [],
   "source": [
    "# Ektiposi random dedomenon gia elegxo\n",
    "\n",
    "# print('Διάλεξε χώρα')\n",
    "# for key, x in enumerate(EUcountries):\n",
    "#     print(str(key)+ \" \" + x, end=\", \")\n",
    "# val = int(input(\"Νούμερο: \"))\n",
    "# x = np.array(range(1960,2021))\n",
    "# z = CO2_BAU_emissions[EUcountries[val]]\n",
    "# y = np.array(z)\n",
    "# fig, ax = plt.subplots()\n",
    "# ax.set_title(\"BAU Emissions By Year of \" + EUcountries[val])\n",
    "# ax.plot(x, y)"
   ]
  },
  {
   "cell_type": "code",
   "execution_count": null,
   "id": "56a5b48c",
   "metadata": {},
   "outputs": [],
   "source": []
  },
  {
   "cell_type": "code",
   "execution_count": 14,
   "id": "2a4bd141",
   "metadata": {},
   "outputs": [],
   "source": [
    "curs = cnx.cursor()\n",
    "\n",
    "## Υπολογισμός Verified Emissions για κάθε χώρα και \n",
    "for index in range(len(EUcountries)):\n",
    "    for i in range(23):\n",
    "        querr = \"SELECT SUM(verified) FROM `eutl_compliance` WHERE country = '\" + str(countries_to_abbr[EUcountries[i]]) +\"' AND etos ='\" + str(i+2000) +\"'\"\n",
    "        VerifiedEmissionsByYear[index][i][0] = EUcountries[index]\n",
    "        VerifiedEmissionsByYear[index][i][1] = index\n",
    "\n",
    "        curs.execute(querr)\n",
    "        myresult = curs.fetchall()\n",
    "        if myresult[0][0] is None :\n",
    "            VerifiedEmissionsByYear[index][i][2] = 0\n",
    "        else:\n",
    "            VerifiedEmissionsByYear[index][i][2] = int(myresult[0][0])\n",
    "\n",
    "for i in range(len(EUcountries)):\n",
    "    for j in range(23):\n",
    "        if VerifiedEmissionsByYear[i][j][2] == 0:\n",
    "            VerifiedEmissionsByYear[i][j][2] = -1"
   ]
  },
  {
   "cell_type": "code",
   "execution_count": 15,
   "id": "d65ae51f",
   "metadata": {},
   "outputs": [],
   "source": [
    "if (Need_diagrams_of_random_data):\n",
    "    x = np.array(range(first_year_of_calculation,last_year_of_calculation+1))\n",
    "    print(VerifiedEmissionsByYear[Countrys_number_for_diagrams][0][1])\n",
    "    y = Population[EUcountries[Countrys_number_for_diagrams]]\n",
    "    fig, ax = plt.subplots()\n",
    "    ax.set_title(\"Population By Year of \" + EUcountries[Countrys_number_for_diagrams])\n",
    "    ax.plot(x, y)"
   ]
  },
  {
   "cell_type": "code",
   "execution_count": 16,
   "id": "6aaeac1e",
   "metadata": {},
   "outputs": [],
   "source": [
    "if (Need_diagrams_of_random_data):\n",
    "    x = np.array(range(2005,2019))\n",
    "    z=[]\n",
    "    for i in range(23):\n",
    "        z.append(VerifiedEmissionsByYear[Countrys_number_for_diagrams][i][2])\n",
    "        print(VerifiedEmissionsByYear[Countrys_number_for_diagrams][i][2], end= \", \")\n",
    "    print(z[5:19])\n",
    "    y = np.array(z[5:19]) # pare mono ta kommatia \n",
    "    fig, ax = plt.subplots()\n",
    "    ax.set_title(\"Verified Emissions By Year of \" + EUcountries[Countrys_number_for_diagrams])\n",
    "    ax.plot(x, y)"
   ]
  },
  {
   "cell_type": "code",
   "execution_count": 17,
   "id": "8ec2ae07",
   "metadata": {},
   "outputs": [],
   "source": [
    "#GDP Read\n",
    "GDP = {}\n",
    "with open('API_NY.GDP.MKTP.CD_DS2_en_csv_v2_3840536.csv', newline='') as csvfile:\n",
    "    spamreader = csv.reader(csvfile, delimiter=',', quotechar='|')\n",
    "    for row in spamreader:\n",
    "        if len(row) > 0 and row[0] in json.dumps(EUcountries):  \n",
    "            k=[]\n",
    "            for i in range (1960,2021):\n",
    "                k.append(int(math.floor(float(zero_if_none(json.loads(row[4+year(i)])))))*1000)\n",
    "            GDP[json.loads(row[0])]=k\n",
    "# for x in GDP:\n",
    "#     print (x, len(GDP[x]))\n",
    "\n",
    "# GDP sort by key"
   ]
  },
  {
   "cell_type": "code",
   "execution_count": 18,
   "id": "3541242f",
   "metadata": {},
   "outputs": [
    {
     "name": "stderr",
     "output_type": "stream",
     "text": [
      "No artists with labels found to put in legend.  Note that artists whose label start with an underscore are ignored when legend() is called with no argument.\n"
     ]
    },
    {
     "name": "stdout",
     "output_type": "stream",
     "text": [
      "{'Austria': -0.38637328897461415, 'Belgium': 0.7102109414205193, 'Bulgaria': 0.09538908064092859, 'Croatia': -0.10917131050634753, 'Cyprus': -0.3742034557912413, 'Czech Republic': 0.3144170781861374, 'Denmark': 0.3709606512971465, 'Estonia': -0.15371935195966452, 'Finland': 0.1934893788520517, 'France': 1.0, 'Germany': 0.625841160321778, 'Greece': -0.13895075724576486, 'Hungary': 0.34586535132459983, 'Ireland': -0.4630624181872827, 'Italy': 0.15504031799321194, 'Latvia': 0.2939738677576469, 'Lithuania': 0.33392845642405816, 'Luxembourg': -0.03242545353922863, 'Malta': 0.2837034746679417, 'Netherlands': 0.15981759299537068, 'Poland': 0.31185756372439705, 'Portugal': -0.08175822778221652, 'Romania': 0.14199120640677512, 'Slovenia': 0.030192411153583426, 'Spain': -0.24904909644659318, 'Sweden': 0.9658088845229976, 'United Kingdom': 0.4809173511389139}\n"
     ]
    },
    {
     "data": {
      "image/png": "[encoded data removed]",
      "text/plain": [
       "<Figure size 432x288 with 1 Axes>"
      ]
     },
     "metadata": {
      "needs_background": "light"
     },
     "output_type": "display_data"
    }
   ],
   "source": [
    "# παμε για παλινδρόμηση από πακέτο ...\n",
    "slopes = {}\n",
    "results_of_linear = {}\n",
    "for c in EUcountries:\n",
    "\n",
    "    xx = CO2_BAU_emissions[c].copy()\n",
    "    yy = GDP[c].copy()\n",
    "\n",
    "    # Keep only the selected years of training data\n",
    "    xx = xx[first_year_of_calculation-1960:last_year_of_calculation-1960+1]\n",
    "    yy = yy[first_year_of_calculation-1960:last_year_of_calculation-1960+1]\n",
    "    # clean 0 values from the lists\n",
    "    start = first_year_of_calculation\n",
    "    end = last_year_of_calculation\n",
    "    while xx[0] == 0 or yy[0] == 0 or xx[0] == -1 or yy[0] == -1:\n",
    "        xx = xx[1:]\n",
    "        yy = yy[1:]\n",
    "        start += 1\n",
    "    while xx[-1] == 0 or yy[-1] == 0 or xx[-1] == -1 or yy[-1] == -1:\n",
    "        xx = xx[:-1]\n",
    "        yy = yy[:-1]\n",
    "        end -= 1\n",
    "\n",
    "    results_of_linear[c] = stats.linregress(xx, yy)\n",
    "    \n",
    "    slopes[c] = float(results_of_linear[c].slope)\n",
    "    if (Need_diagrams_of_linear_regration):\n",
    "        print (results_of_linear[c])\n",
    "        plt.plot(xx, yy, 'o' )\n",
    "        axes = plt.gca()\n",
    "        x_vals = np.array(axes.get_xlim())\n",
    "        y_vals = results_of_linear[c].intercept + results_of_linear[c].slope * x_vals\n",
    "        plt.plot(x_vals, y_vals)\n",
    "        plt.legend()\n",
    "        plt.grid()\n",
    "        plt.title('Linear Regression of CO2 emissions and GDP for ' + c + ' in ' + str(start) + '-' + str(end)+ \"\\n\" + \"R^2 = \" + str(results_of_linear[c].rvalue**2))\n",
    "        plt.ylabel('GDP')\n",
    "        plt.xlabel('CO2 emissions')\n",
    "        plt.show()\n",
    "slopes = Normalize_dictionary(slopes)\n",
    "print(slopes)\n",
    "\n",
    "\n",
    "# graph for slopes\n",
    "plt.barh(list(slopes.keys()) ,list(slopes.values()))\n",
    "plt.ylabel('Countries')\n",
    "plt.xlabel('Slopes')\n",
    "plt.title('Slopes of linear Regration of GDP per CO2')\n",
    "plt.grid()\n",
    "plt.legend()\n",
    "plt.show()\n"
   ]
  },
  {
   "cell_type": "code",
   "execution_count": 21,
   "id": "1650740a",
   "metadata": {},
   "outputs": [],
   "source": [
    "def lin_reg(start,end):\n",
    "    res_of_linear = {}\n",
    "    slo ={}\n",
    "    for c in EUcountries:\n",
    "\n",
    "        xx = CO2_BAU_emissions[c].copy()\n",
    "        yy = GDP[c].copy()\n",
    "\n",
    "        # Keep only the selected years of training data\n",
    "        xx = xx[start-1960:end-1960+1]\n",
    "        yy = yy[start-1960:end-1960+1]\n",
    "        # clean 0 values from the lists\n",
    "        while xx[0] == 0 or yy[0] == 0 or xx[0] == -1 or yy[0] == -1:\n",
    "            xx = xx[1:]\n",
    "            yy = yy[1:]\n",
    "        while xx[-1] == 0 or yy[-1] == 0 or xx[-1] == -1 or yy[-1] == -1:\n",
    "            xx = xx[:-1]\n",
    "            yy = yy[:-1]\n",
    "\n",
    "        res_of_linear[c] = stats.linregress(xx, yy)\n",
    "        xx = CO2_BAU_emissions[c].copy()\n",
    "        yy = GDP[c].copy()\n",
    "        xx = xx[start-1960:end-1960+1]\n",
    "        yy = yy[start-1960:end-1960+1]\n",
    "        # clean 0 values from the lists\n",
    "        while xx[0] == 0 or yy[0] == 0 or xx[0] == -1 or yy[0] == -1:\n",
    "            xx = xx[1:]\n",
    "            yy = yy[1:]\n",
    "        while xx[-1] == 0 or yy[-1] == 0 or xx[-1] == -1 or yy[-1] == -1:\n",
    "            xx = xx[:-1]\n",
    "            yy = yy[:-1]\n",
    "        res_of_linear[c] = stats.linregress(xx, yy)\n",
    "        slo[c] = float(res_of_linear[c].slope)\n",
    "    slo = Normalize_dictionary(slo)\n",
    "    return slo\n",
    "\n",
    "    "
   ]
  },
  {
   "cell_type": "code",
   "execution_count": 42,
   "id": "e4346d8d",
   "metadata": {},
   "outputs": [],
   "source": [
    "def create_table_of_slopes_for_differnt_periods_for_latex():\n",
    "    res_1990_1995 = lin_reg(1990,1995)\n",
    "    res_1996_2000 = lin_reg(1996,2000)\n",
    "    res_2001_2005 = lin_reg(2001,2005)\n",
    "    res_2006_2010 = lin_reg(2006,2010)\n",
    "    res_2011_2018 = lin_reg(2011,2018)\n",
    "    stds = []\n",
    "    for i in EUcountries:\n",
    "        stds.append(np.std([res_1990_1995[i],res_1996_2000[i],res_2001_2005[i],res_2006_2010[i],res_2011_2018[i]]))\n",
    "\n",
    "    dic = {\"Countries\" : slopes.keys(), \"1990-2018\" : slopes.values(),\"1990-1995\":res_1990_1995.values(),\"1996-2000\": res_1996_2000.values(), \"2001-2005\" : res_2001_2005.values(), \"2006-2010\" : res_2006_2010.values(), \"2011-2018\": res_2011_2018.values(), \"STD\": stds}\n",
    "\n",
    "    df = pd.DataFrame(dic)\n",
    "    # print(df)\n",
    "    return df.to_latex()\n",
    "# create_table_of_slopes_for_differnt_periods_for_latex()"
   ]
  },
  {
   "cell_type": "code",
   "execution_count": 43,
   "id": "be8109ea",
   "metadata": {},
   "outputs": [
    {
     "name": "stderr",
     "output_type": "stream",
     "text": [
      "No artists with labels found to put in legend.  Note that artists whose label start with an underscore are ignored when legend() is called with no argument.\n"
     ]
    },
    {
     "data": {
      "image/png": "[encoded data removed]",
      "text/plain": [
       "<Figure size 432x288 with 1 Axes>"
      ]
     },
     "metadata": {
      "needs_background": "light"
     },
     "output_type": "display_data"
    }
   ],
   "source": [
    "# STUPID DATA CALCULATION\n",
    "\n",
    "#Max Popoulation\n",
    "Population_max_per_year = [0 for i in range (1960,2021)]\n",
    "Population_max_per_year_country = ['' for i in range (1960,2021)]\n",
    "for x in EUcountries:\n",
    "    if x == 'Slovakia':\n",
    "        continue\n",
    "    for i in range (1960,2021):\n",
    "\n",
    "        if Population_max_per_year[year(i)] < Population[x][year(i)]:\n",
    "            Population_max_per_year[year(i)] = Population[x][year(i)]\n",
    "            Population_max_per_year_country[year(i)] = x\n",
    "# print (Population_max_per_year, Population_max_per_year_country)\n",
    "# GDP per capita calculation\n",
    "\n",
    "GDPperCapita = {} # dictionary of GDP per capita, tuple (country,year)-> GDP per capita\n",
    "\n",
    "for x in EUcountries:\n",
    "    if x == 'Slovakia':\n",
    "        continue\n",
    "    for i in range (1960,2021):\n",
    "        if Population[x][year(i)] == 0:\n",
    "            GDPperCapita[(x,year(i))] = 0\n",
    "            continue\n",
    "        GDPperCapita[(x,year(i))] = GDP[x][year(i)] / Population[x][year(i)]\n",
    "\n",
    "# AVG GDP per capita calculation of last year\n",
    "\n",
    "GDP_per_capita_AVG_2020 = 0\n",
    "\n",
    "for x in EUcountries:\n",
    "    if x == 'Slovakia':\n",
    "        continue\n",
    "    GDP_per_capita_AVG_2020 += GDPperCapita[(x,year(2020))]\n",
    "GDP_per_capita_AVG_2020 /= len(countries_to_abbr)-1\n",
    "# print('GDP per capita AVG 2020: ', GDP_per_capita_AVG_2020)\n",
    "\n",
    "GDP_per_capita_AVG_2019 = 0\n",
    "\n",
    "for x in EUcountries:\n",
    "    if x == 'Slovakia':\n",
    "        continue\n",
    "    GDP_per_capita_AVG_2019 += GDPperCapita[(x,year(2019))]\n",
    "GDP_per_capita_AVG_2019 /= len(countries_to_abbr)-1\n",
    "# print('GDP per capita AVG 2019: ', GDP_per_capita_AVG_2019)\n",
    "\n",
    "# Calculate Normalized Population\n",
    "\n",
    "Normalized_Population_2020 = {} # dictionary of Population over max Population\n",
    "\n",
    "for x in EUcountries:\n",
    "    if x == 'Slovakia':\n",
    "        continue\n",
    "    Normalized_Population_2020[x] = Population[x][year(2020)] / max(Population.values())[-1]\n",
    "# print (Normalized_Population_2020)\n",
    "\n",
    "Normalized_Population_2019 = {} # dictionary of Population over max Population\n",
    "\n",
    "for x in EUcountries:\n",
    "    if x == 'Slovakia':\n",
    "        continue\n",
    "    Normalized_Population_2019[x] = Population[x][year(2019)] / max(Population.values())[-2]\n",
    "\n",
    "# Calculate K_ factor which is the difference of( GDP per capita - AVG GDP per capita. ) over last 2 years.\n",
    "\n",
    "K_factor = {}\n",
    "for x in EUcountries:\n",
    "    if x == 'Slovakia':\n",
    "        continue\n",
    "    K_factor[x] = (GDPperCapita[(x,year(2020))] - GDP_per_capita_AVG_2020) - (GDPperCapita[(x,year(2019))] - GDP_per_capita_AVG_2019)\n",
    "# print (\"K_factor : \", K_factor)\n",
    "#Normalize K_factor\n",
    "max_K_factor = max(K_factor.values())\n",
    "for k in K_factor:\n",
    "    K_factor[k] = K_factor[k] / max_K_factor\n",
    "# print (\"K_factor : \", K_factor)\n",
    "\n",
    "# Calculate W4 : Normalized Population * W1 - W3 * K_factor\n",
    "W1 = 1\n",
    "W3 = 0.25\n",
    "W4 = {}\n",
    "for x in EUcountries:\n",
    "    if x == 'Slovakia':\n",
    "        continue\n",
    "    # W4[x] = Normalized_Population_2020[x] * W1 - W3 * K_factor[x] + 1\n",
    "    W4[x] = - W3 * K_factor[x] + 1\n",
    "\n",
    "plt.barh(list(W4.keys()) ,list(W4.values()))\n",
    "plt.ylabel('Countries')\n",
    "plt.xlabel('W4')\n",
    "plt.title('Fairness factor W4')\n",
    "plt.grid()\n",
    "plt.legend()\n",
    "plt.show()\n"
   ]
  },
  {
   "cell_type": "code",
   "execution_count": null,
   "id": "6b3a7d8d",
   "metadata": {},
   "outputs": [
    {
     "name": "stdout",
     "output_type": "stream",
     "text": [
      "Free allocation 2017:  {'Austria': 20263533, 'Belgium': 32998283, 'Bulgaria': 8884027, 'Croatia': 4580337, 'Cyprus': 808597, 'Czech Republic': 20274220, 'Denmark': 8722766, 'Estonia': 1693273, 'Finland': 17495324, 'France': 72521302, 'Germany': 151733387, 'Greece': 13314130, 'Hungary': 10148848, 'Ireland': 10319811, 'Italy': 67750281, 'Latvia': 1898465, 'Lithuania': 5440349, 'Luxembourg': 1314409, 'Malta': 177467, 'Netherlands': 45073498, 'Poland': 48346057, 'Portugal': 10920509, 'Romania': 20523243, 'Slovenia': 1833336, 'Spain': 57848221, 'Sweden': 23806503, 'United Kingdom': 57701712}\n"
     ]
    }
   ],
   "source": [
    "# Calculate important data\n",
    "\n",
    "# Find the sum of the freely allocated allowances of 2016:\n",
    "Free_allocation_2018 = {}\n",
    "#curs = cnx.cursor()\n",
    "for x in EUcountries:\n",
    "    querr = \"SELECT Sum(freeAlloc) FROM `eutl_compliance` WHERE country = '\" + str(countries_to_eu_2Labbr[x]) +\"' AND etos ='2018'\"\n",
    "    curs.execute(querr)\n",
    "    myresult = curs.fetchall()\n",
    "    if myresult[0][0] is None :\n",
    "        Free_allocation_2018[x] = 0\n",
    "    else:\n",
    "        Free_allocation_2018[x] = int(myresult[0][0])\n",
    "Sum_of_free_allocation_2018 = sum(Free_allocation_2018.values())\n",
    "# print (\"Free allocation 2018: \", Free_allocation_2018)\n",
    "# print (\"Sum of free allocation 2018: \", Sum_of_free_allocation_2018)\n",
    "\n",
    "# Find the sum of the freely allocated allowances of 2016:\n",
    "Free_allocation_2017 = {}\n",
    "#curs = cnx.cursor()\n",
    "for x in EUcountries:\n",
    "    querr = \"SELECT Sum(freeAlloc) FROM `eutl_compliance` WHERE country = '\" + str(countries_to_eu_2Labbr[x]) +\"' AND etos ='2017'\"\n",
    "    \n",
    "    curs.execute(querr)\n",
    "    myresult = curs.fetchall()\n",
    "    if myresult[0][0] is None :\n",
    "        Free_allocation_2017[x] = 0\n",
    "    else:\n",
    "        Free_allocation_2017[x] = int(myresult[0][0])\n",
    "Sum_of_free_allocation_2017 = sum(Free_allocation_2017.values())\n",
    "print (\"Free allocation 2017: \", Free_allocation_2017)\n",
    "# print (\"Sum of free allocation 2017: \", Sum_of_free_allocation_2017)\n",
    "\n",
    "#Percentage Free allocation:\n",
    "per_Free_allocation_2017 = {}\n",
    "per_Free_allocation_2018 = {}\n",
    "\n",
    "for k in Free_allocation_2017:\n",
    "    per_Free_allocation_2017[k] = Free_allocation_2017[k] / Sum_of_free_allocation_2017 *100\n",
    "for k in Free_allocation_2018:\n",
    "    per_Free_allocation_2018[k] = Free_allocation_2018[k] / Sum_of_free_allocation_2018 *100\n",
    "\n"
   ]
  },
  {
   "cell_type": "code",
   "execution_count": null,
   "id": "d86625f1",
   "metadata": {},
   "outputs": [],
   "source": [
    "# Data for simplex lingprog\n",
    "# print(\"len of per_Free_allocation_2018: \", len(Free_allocation_2018))\n",
    "dummy = Free_allocation_2017.copy()\n",
    "\n",
    "# print(dummy)\n",
    "# print(\"len of dummy: \", len(dummy))\n",
    "b = [0 for i in range (len(EUcountries)*2)]\n",
    "for i in range(len(EUcountries)):\n",
    "    # b[i] = float(dummy[EUcountries[i]])*W4[key]\n",
    "    b[i] = float(dummy[EUcountries[i]])*1.5\n",
    "\n",
    "for i, key in enumerate(dummy.keys()):\n",
    "    b[i+27]=( -float(dummy[EUcountries[i]])*0.5)\n",
    "#remve slovakia from b\n",
    "# print (len(b))\n",
    "c = list(slopes.values())\n",
    "# print(slopes.keys())\n",
    "\n",
    "# print (c)\n",
    "\n",
    "#Menei o pinakas A\n",
    "A = [[0 for j in range(27)] for i in range(54)]\n",
    "for i in range(27):\n",
    "    A[i][i] = 1\n",
    "    A[i+27][i] = -1\n",
    "\n",
    "A_eq1 = [[1 for i in range(27)]]\n",
    "b_eq1 = Sum_of_free_allocation_2018\n",
    "# print(len(A_eq1))\n",
    "# print(len(c))\n",
    "# print(A_eq1)\n",
    "# for i in A:\n",
    "#     print(i)\n",
    "# for i in range(27):\n",
    "#     print(b[i]> b[i+27])\n"
   ]
  },
  {
   "cell_type": "code",
   "execution_count": null,
   "id": "75408a30",
   "metadata": {},
   "outputs": [
    {
     "name": "stdout",
     "output_type": "stream",
     "text": [
      "solution.x:  [3.03952995e+07 1.64991415e+07 1.33260405e+07 6.87050550e+06\n",
      " 1.21289550e+06 1.01371100e+07 4.36138300e+06 2.53990950e+06\n",
      " 2.62429860e+07 3.62606510e+07 7.58666935e+07 1.99711950e+07\n",
      " 5.07442400e+06 1.54797165e+07 1.01625422e+08 2.84769750e+06\n",
      " 2.72017450e+06 1.97161350e+06 2.66200500e+05 6.76102470e+07\n",
      " 6.90890555e+07 1.63807635e+07 3.07848645e+07 2.75000400e+06\n",
      " 8.67723315e+07 1.19032515e+07 2.88508560e+07]\n"
     ]
    }
   ],
   "source": [
    "solution = linprog(c, A_ub=A, b_ub=b, A_eq = A_eq1, b_eq = b_eq1, method='simplex')\n",
    "\n",
    "\n",
    "# solution = simplex(c , A, b )\n",
    "# print('solution: ', solution)\n",
    "print('solution.x: ', solution.x)"
   ]
  },
  {
   "cell_type": "code",
   "execution_count": null,
   "id": "758abdb2",
   "metadata": {},
   "outputs": [
    {
     "data": {
      "image/png": "[encoded data removed]",
      "text/plain": [
       "<Figure size 432x288 with 1 Axes>"
      ]
     },
     "metadata": {
      "needs_background": "light"
     },
     "output_type": "display_data"
    },
    {
     "data": {
      "image/png": "[encoded data removed]",
      "text/plain": [
       "<Figure size 432x288 with 1 Axes>"
      ]
     },
     "metadata": {
      "needs_background": "light"
     },
     "output_type": "display_data"
    }
   ],
   "source": [
    "f2017 = {}\n",
    "f2018 = {}\n",
    "\n",
    "f2017 = Free_allocation_2017.copy()\n",
    "f2018 = Free_allocation_2018.copy()\n",
    "if \"Slovakia\" in f2017:\n",
    "    f2017.pop(\"Slovakia\")\n",
    "if \"Slovakia\" in f2018:\n",
    "    f2018.pop(\"Slovakia\")\n",
    "per_capita_sol=[]\n",
    "per_capita_actual_2018=[]\n",
    "for i in range(len(solution.x)):\n",
    "    per_capita_sol.append(solution.x[i]/Population[EUcountries[5]][-4])\n",
    "    per_capita_actual_2018.append(f2018[EUcountries[i]]/Population[EUcountries[i]][-4])\n",
    "    # per_capita_sol.append(solution.x[i])\n",
    "    # per_capita_actual_2018.append(f2018[EUcountries[i]])\n",
    "\n",
    "df = pd.DataFrame(dict(graph=EUcountries,n=solution.x, m=list(f2018.values()), d = list(f2017.values())))\n",
    "\n",
    "ind = np.arange(len(df))\n",
    "width = 0.25\n",
    "\n",
    "fig, ax = plt.subplots()\n",
    "ax.barh(ind, df.n, width, color='blue', label='2018 Calculated')\n",
    "ax.barh(ind + width, df.m, width, color='green', label='2018 actual')\n",
    "ax.barh(ind + 2*width, df.d, width, color='RED', label='2017 actual')\n",
    "ax.set_xscale('log')\n",
    "ax.set(yticks=ind + width, yticklabels=df.graph, ylim=[2*width - 1, len(df)])\n",
    "ax.legend(bbox_to_anchor=(1.1, 1.05))\n",
    "ax.set_title('Comparison of calculated and real free allocations (LOG)')\n",
    "plt.grid()\n",
    "plt.show()\n",
    "\n",
    "\n",
    "df = pd.DataFrame(dict(graph=EUcountries,n=per_capita_sol, m=list(per_capita_actual_2018), d = list(f2017.values())))\n",
    "fig, ax = plt.subplots()\n",
    "ax.barh(ind, df.n, width, color='blue', label='2018 Per Capita Calculated')\n",
    "ax.barh(ind + width, df.m, width, color='green', label='2018 Per Capita actual')\n",
    "# ax.set_xscale('log')\n",
    "ax.set(yticks=ind + width, yticklabels=df.graph, ylim=[2*width - 1, len(df)])\n",
    "ax.legend(bbox_to_anchor=(1.1, 1.05))\n",
    "ax.set_title('Comparison of calculated and real free allocations Per Capita')\n",
    "plt.grid()\n",
    "plt.show()"
   ]
  },
  {
   "cell_type": "code",
   "execution_count": null,
   "id": "31f6257d",
   "metadata": {},
   "outputs": [],
   "source": []
  }
 ],
 "metadata": {
  "interpreter": {
   "hash": "3f18770bb0dbf1885193050cee8563f0a8573943edcdec089e8f40fb137c987e"
  },
  "kernelspec": {
   "display_name": "Python 3 (ipykernel)",
   "language": "python",
   "name": "python3"
  },
  "language_info": {
   "codemirror_mode": {
    "name": "ipython",
    "version": 3
   },
   "file_extension": ".py",
   "mimetype": "text/x-python",
   "name": "python",
   "nbconvert_exporter": "python",
   "pygments_lexer": "ipython3",
   "version": "3.7.11"
  }
 },
 "nbformat": 4,
 "nbformat_minor": 5
}
